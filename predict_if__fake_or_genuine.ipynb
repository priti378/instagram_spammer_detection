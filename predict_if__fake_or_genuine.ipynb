{
  "nbformat": 4,
  "nbformat_minor": 0,
  "metadata": {
    "colab": {
      "provenance": []
    },
    "kernelspec": {
      "name": "python3",
      "display_name": "Python 3"
    },
    "language_info": {
      "name": "python"
    }
  },
  "cells": [
    {
      "cell_type": "code",
      "execution_count": 2,
      "metadata": {
        "id": "qHhr0XogIepQ"
      },
      "outputs": [],
      "source": [
        "import pickle\n",
        "import numpy as np\n",
        "import pandas as pd"
      ]
    },
    {
      "cell_type": "code",
      "source": [
        "# Load model and feature columns\n",
        "with open(\"model.pkl\", \"rb\") as f:\n",
        "    model = pickle.load(f)\n",
        "\n",
        "with open(\"features.pkl\", \"rb\") as f:\n",
        "    feature_cols = pickle.load(f)\n",
        "\n",
        "# Example data (you'd get this from API input)\n",
        "input_data = {\n",
        "    \"profile pic\": 1,\n",
        "    \"nums/length username\": 0.27,\n",
        "    \"fullname words\": 0,\n",
        "    \"nums/length fullname\": 0.0,\n",
        "    \"name==username\": 0,\n",
        "    \"description length\": 53,\n",
        "    \"external URL\": 0,\n",
        "    \"private\": 0,\n",
        "    \"#posts\": 32,\n",
        "    \"#followers\": 1000,\n",
        "    \"#follows\": 955\n",
        "}\n",
        "\n",
        "# Convert to DataFrame\n",
        "df_input = pd.DataFrame([input_data])[feature_cols]\n",
        "\n",
        "# Make prediction\n",
        "prediction = model.predict(df_input)[0]\n",
        "print(\"Predicted:\", \"Fake\" if prediction == 1 else \"Genuine\")\n"
      ],
      "metadata": {
        "colab": {
          "base_uri": "https://localhost:8080/"
        },
        "id": "L9uHMqs6J4Ad",
        "outputId": "0a84d782-59a2-41f6-84c4-5d3af6d0ef31"
      },
      "execution_count": 5,
      "outputs": [
        {
          "output_type": "stream",
          "name": "stdout",
          "text": [
            "Predicted: Genuine\n"
          ]
        }
      ]
    }
  ]
}